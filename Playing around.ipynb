{
 "cells": [
  {
   "cell_type": "code",
   "execution_count": 6,
   "metadata": {
    "collapsed": false
   },
   "outputs": [],
   "source": [
    "import random\n",
    "\n",
    "class Dice:\n",
    "    \n",
    "    def roll(self):\n",
    "        return random.randint(1,6)\n",
    "\n",
    "dice = Dice()\n",
    "\n",
    "class Player:\n",
    "    \n",
    "    def __init__(self):\n",
    "        self.dice = dice\n",
    "        pass\n",
    "    \n",
    "    def user_turn(self):\n",
    "        running_score = 0\n",
    "        while True:\n",
    "            roll = self.dice.roll()\n",
    "            running_score += roll\n",
    "            print(\"You rolled a {}\".format(roll))\n",
    "            print(\"Your round total is {}.\".format(running_score))\n",
    "            if roll == 1:\n",
    "                print(\"Turn over. Computer's turn.\")\n",
    "                return False\n",
    "            else:\n",
    "                choice = input(\"Would you like to roll again? Please type Yes or No. \")\n",
    "                if choice in [\"Yes\", \"yes\", \"YES\"]:\n",
    "                    print(\"------------------------\")\n",
    "                    continue \n",
    "                elif choice in [\"No\", \"NO\", \"no\"]:\n",
    "                    print(\"Your round total was {}. Computer's turn.\".format(running_score))\n",
    "                    return False\n",
    "     \n",
    "    def accumulation(self):\n",
    "        total_score =+ running_score\n",
    "        total_turns =+ turn\n",
    "        if total_turns == 7:\n",
    "            print(\"Game over!\")\n",
    "            \n",
    "class Computer:\n",
    "    \n",
    "    def __init__(self):\n",
    "        self.dice = dice\n",
    "        pass\n",
    "    \n",
    "    def computer_turn(self):\n",
    "        self.running_score = 0\n",
    "        turn = 1\n",
    "        while True:\n",
    "            roll = self.dice.roll()\n",
    "            running_score += roll\n",
    "            print(\"Computer rolled a {}\".format(roll))\n",
    "            print(\"Computer's round total is {}.\".format(running_score))\n",
    "            if roll == 1:\n",
    "                print(\"Turn over. Player's turn.\")\n",
    "                return False\n",
    "            else:\n",
    "                if running_score < 50:\n",
    "                    print(\"------------------------\")\n",
    "                    continue \n",
    "                else:\n",
    "                    print(\"Computer has passed. Computer's round total was {}. It's your turn!\".format(running_score))\n",
    "                    return False\n",
    "                #input(\"Would you like to roll again? Please type Yes or No\") \n",
    "    \n",
    "    def accumulation(self):\n",
    "        total_score =+ running_score\n",
    "        total_turns =+ turn\n",
    "        if total_turns == 7:\n",
    "            print(\"Game over!\")\n",
    "            "
   ]
  },
  {
   "cell_type": "code",
   "execution_count": 7,
   "metadata": {
    "collapsed": false,
    "scrolled": true
   },
   "outputs": [
    {
     "name": "stdout",
     "output_type": "stream",
     "text": [
      "You rolled a 2\n",
      "Your round total is 2.\n",
      "Would you like to roll again? Please type Yes or No. No\n",
      "Your round total was 2. Computer's turn.\n"
     ]
    },
    {
     "data": {
      "text/plain": [
       "False"
      ]
     },
     "execution_count": 7,
     "metadata": {},
     "output_type": "execute_result"
    }
   ],
   "source": [
    "matt = Player()\n",
    "matt.user_turn()"
   ]
  },
  {
   "cell_type": "code",
   "execution_count": 8,
   "metadata": {
    "collapsed": false
   },
   "outputs": [
    {
     "ename": "NameError",
     "evalue": "name 'running_score' is not defined",
     "output_type": "error",
     "traceback": [
      "\u001b[0;31m---------------------------------------------------------------------------\u001b[0m",
      "\u001b[0;31mNameError\u001b[0m                                 Traceback (most recent call last)",
      "\u001b[0;32m<ipython-input-8-25b70b487a74>\u001b[0m in \u001b[0;36m<module>\u001b[0;34m()\u001b[0m\n\u001b[0;32m----> 1\u001b[0;31m \u001b[0mmatt\u001b[0m\u001b[0;34m.\u001b[0m\u001b[0maccumulation\u001b[0m\u001b[0;34m(\u001b[0m\u001b[0;34m)\u001b[0m\u001b[0;34m\u001b[0m\u001b[0m\n\u001b[0m",
      "\u001b[0;32m<ipython-input-6-f77a6e1c5fa8>\u001b[0m in \u001b[0;36maccumulation\u001b[0;34m(self)\u001b[0m\n\u001b[1;32m     34\u001b[0m \u001b[0;34m\u001b[0m\u001b[0m\n\u001b[1;32m     35\u001b[0m     \u001b[0;32mdef\u001b[0m \u001b[0maccumulation\u001b[0m\u001b[0;34m(\u001b[0m\u001b[0mself\u001b[0m\u001b[0;34m)\u001b[0m\u001b[0;34m:\u001b[0m\u001b[0;34m\u001b[0m\u001b[0m\n\u001b[0;32m---> 36\u001b[0;31m         \u001b[0mtotal_score\u001b[0m \u001b[0;34m=\u001b[0m\u001b[0;34m+\u001b[0m \u001b[0mrunning_score\u001b[0m\u001b[0;34m\u001b[0m\u001b[0m\n\u001b[0m\u001b[1;32m     37\u001b[0m         \u001b[0mtotal_turns\u001b[0m \u001b[0;34m=\u001b[0m\u001b[0;34m+\u001b[0m \u001b[0mturn\u001b[0m\u001b[0;34m\u001b[0m\u001b[0m\n\u001b[1;32m     38\u001b[0m         \u001b[0;32mif\u001b[0m \u001b[0mtotal_turns\u001b[0m \u001b[0;34m==\u001b[0m \u001b[0;36m7\u001b[0m\u001b[0;34m:\u001b[0m\u001b[0;34m\u001b[0m\u001b[0m\n",
      "\u001b[0;31mNameError\u001b[0m: name 'running_score' is not defined"
     ]
    }
   ],
   "source": [
    "matt.accumulation()"
   ]
  },
  {
   "cell_type": "code",
   "execution_count": null,
   "metadata": {
    "collapsed": true
   },
   "outputs": [],
   "source": []
  }
 ],
 "metadata": {
  "kernelspec": {
   "display_name": "Python 3",
   "language": "python",
   "name": "python3"
  }
 },
 "nbformat": 4,
 "nbformat_minor": 0
}
