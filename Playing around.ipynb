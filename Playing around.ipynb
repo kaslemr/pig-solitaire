{
 "cells": [
  {
   "cell_type": "code",
   "execution_count": 91,
   "metadata": {
    "collapsed": false
   },
   "outputs": [],
   "source": [
    "import random\n",
    "\n",
    "class Dice:\n",
    "    \n",
    "    def roll(self):\n",
    "        return random.randint(1,6)\n",
    "\n",
    "dice = Dice()\n",
    "\n",
    "class Player:\n",
    "    \n",
    "    def __init__(self):\n",
    "        self.dice = dice\n",
    "        self.player_round_total = 0\n",
    "        self.player_score_total = 0\n",
    "        pass\n",
    "    \n",
    "    def user_turn(self):\n",
    "        current_round = 1\n",
    "        running_score = 0\n",
    "        self.player_round_total += current_round\n",
    "        self.player_score_total += running_score\n",
    "        print(\"Game point total: {}. This is Turn #{}.\".format(self.player_score_total, self.player_round_total))\n",
    "        while True:\n",
    "            roll = self.dice.roll()\n",
    "            running_score += roll\n",
    "            print(\"You rolled a {}\".format(roll))\n",
    "            print(\"Your round total is {}.\".format(running_score))\n",
    "            if roll == 1:\n",
    "                self.player_score_total += running_score\n",
    "                self.running_score = c_running_score\n",
    "                print(\"End of turn #{}. Round total: {}. Game total: {}.\".format(self.player_round_total, running_score, self.player_score_total))\n",
    "                return False\n",
    "            else:\n",
    "                choice = input(\"Would you like to roll again? Please type Yes or No. \")\n",
    "                if choice in [\"Yes\", \"yes\", \"YES\"]:\n",
    "                    print(\"------------------------\")\n",
    "                    continue \n",
    "                elif choice in [\"No\", \"NO\", \"no\"]:\n",
    "                    self.running_score = running_score\n",
    "                    self.player_score_total += running_score\n",
    "                    print(\"End of turn #{}. Round total: {}. Game total: {}.\".format(self.player_round_total, running_score, self.player_score_total))\n",
    "                    return False\n",
    "            \n",
    "class Computer:\n",
    "    \n",
    "    def __init__(self):\n",
    "        self.dice = dice\n",
    "        self.computer_round_total = int()\n",
    "        self.computer_score_total = int()\n",
    " \n",
    "    def computer_turn(self):\n",
    "        c_current_round = 1\n",
    "        c_running_score = 0\n",
    "        self.computer_round_total += c_current_round\n",
    "        self.computer_score_total += c_running_score\n",
    "        print(\"Game point total: {}. This is Turn #{}.\".format(self.computer_score_total, self.computer_round_total))\n",
    "        while True:\n",
    "            roll = self.dice.roll()\n",
    "            c_running_score += roll\n",
    "            print(\"Computer rolled a {}\".format(roll))\n",
    "            print(\"Computer's round total is {}.\".format(c_running_score))\n",
    "            if roll == 1:\n",
    "                self.computer_score_total += c_running_score\n",
    "                self.running_score = c_running_score\n",
    "                print(\"End of turn #{}. Computer Round total: {}. Computer Game total: {}.\".format(self.computer_round_total, c_running_score, self.computer_score_total))\n",
    "                self.computer_score = self.computer_score_total\n",
    "                self.computer_round = self.computer_round_total\n",
    "                return False\n",
    "            else:\n",
    "                if c_running_score < 50:\n",
    "                    print(\"Computer chooses to roll again.\")\n",
    "                    print(\"------------------------\")\n",
    "                    continue \n",
    "                else:\n",
    "                    self.running_score = c_running_score\n",
    "                    self.computer_score_total += c_running_score\n",
    "                    print(\"Computer has passed. End of turn #{}. Computer Round total: {}. Computer Game total: {}.\".format(self.computer_round_total, c_running_score, self.computer_score_total))\n",
    "                    self.computer_score = self.computer_score_total\n",
    "                    self.computer_round = self.computer_round_total\n",
    "                    return False\n",
    "        \n",
    "    def scoring(self):\n",
    "        print(self.computer_score)\n",
    "        print(self.computer_round)\n",
    "\n",
    "computer = Computer()\n",
    "    \n",
    "class Game:\n",
    "    \n",
    "    def __init__(self):\n",
    "        pass\n",
    "    \n",
    "    def game_simulation(self):\n",
    "        return self.counter()\n",
    "    \n",
    "    def user_turn(self):\n",
    "        self.user_turn() \n",
    "        player_total_turns += 1\n",
    "        return\n",
    "\n",
    "    def computer_turn(self):\n",
    "        self.computer_turn() \n",
    "        computer_total_turns += 1\n",
    "        return\n",
    "\n",
    "game_run = Game()\n",
    "    \n",
    "# Initiate user turn:\n",
    "   #matt = Player()\n",
    "    #matt.user_turn()\n",
    "# Initiate computer turn:\n",
    "   #matt = Computer()\n",
    "    #matt.computer_turn()\n"
   ]
  },
  {
   "cell_type": "code",
   "execution_count": 92,
   "metadata": {
    "collapsed": false
   },
   "outputs": [],
   "source": [
    "matt = Computer()"
   ]
  },
  {
   "cell_type": "code",
   "execution_count": 93,
   "metadata": {
    "collapsed": false
   },
   "outputs": [
    {
     "name": "stdout",
     "output_type": "stream",
     "text": [
      "Game point total: 0. This is Turn #1.\n",
      "Computer rolled a 1\n",
      "Computer's round total is 1.\n",
      "End of turn #1. Computer Round total: 1. Computer Game total: 1.\n"
     ]
    },
    {
     "ename": "AttributeError",
     "evalue": "'Computer' object has no attribute 'computer_score'",
     "output_type": "error",
     "traceback": [
      "\u001b[0;31m---------------------------------------------------------------------------\u001b[0m",
      "\u001b[0;31mAttributeError\u001b[0m                            Traceback (most recent call last)",
      "\u001b[0;32m<ipython-input-93-173e7550411b>\u001b[0m in \u001b[0;36m<module>\u001b[0;34m()\u001b[0m\n\u001b[1;32m      1\u001b[0m \u001b[0mmatt\u001b[0m\u001b[0;34m.\u001b[0m\u001b[0mcomputer_turn\u001b[0m\u001b[0;34m(\u001b[0m\u001b[0;34m)\u001b[0m\u001b[0;34m\u001b[0m\u001b[0m\n\u001b[0;32m----> 2\u001b[0;31m \u001b[0mprint\u001b[0m\u001b[0;34m(\u001b[0m\u001b[0mcomputer\u001b[0m\u001b[0;34m.\u001b[0m\u001b[0mscoring\u001b[0m\u001b[0;34m(\u001b[0m\u001b[0;34m)\u001b[0m\u001b[0;34m)\u001b[0m\u001b[0;34m\u001b[0m\u001b[0m\n\u001b[0m",
      "\u001b[0;32m<ipython-input-91-66094aa2d098>\u001b[0m in \u001b[0;36mscoring\u001b[0;34m(self)\u001b[0m\n\u001b[1;32m     82\u001b[0m \u001b[0;34m\u001b[0m\u001b[0m\n\u001b[1;32m     83\u001b[0m     \u001b[0;32mdef\u001b[0m \u001b[0mscoring\u001b[0m\u001b[0;34m(\u001b[0m\u001b[0mself\u001b[0m\u001b[0;34m)\u001b[0m\u001b[0;34m:\u001b[0m\u001b[0;34m\u001b[0m\u001b[0m\n\u001b[0;32m---> 84\u001b[0;31m         \u001b[0mprint\u001b[0m\u001b[0;34m(\u001b[0m\u001b[0mself\u001b[0m\u001b[0;34m.\u001b[0m\u001b[0mcomputer_score\u001b[0m\u001b[0;34m)\u001b[0m\u001b[0;34m\u001b[0m\u001b[0m\n\u001b[0m\u001b[1;32m     85\u001b[0m         \u001b[0mprint\u001b[0m\u001b[0;34m(\u001b[0m\u001b[0mself\u001b[0m\u001b[0;34m.\u001b[0m\u001b[0mcomputer_round\u001b[0m\u001b[0;34m)\u001b[0m\u001b[0;34m\u001b[0m\u001b[0m\n\u001b[1;32m     86\u001b[0m \u001b[0;34m\u001b[0m\u001b[0m\n",
      "\u001b[0;31mAttributeError\u001b[0m: 'Computer' object has no attribute 'computer_score'"
     ]
    }
   ],
   "source": [
    "matt.computer_turn()\n",
    "print(computer.scoring())"
   ]
  },
  {
   "cell_type": "code",
   "execution_count": 87,
   "metadata": {
    "collapsed": false
   },
   "outputs": [
    {
     "name": "stdout",
     "output_type": "stream",
     "text": [
      "0\n",
      "0\n",
      "None\n"
     ]
    }
   ],
   "source": [
    "print(computer.scoring())"
   ]
  },
  {
   "cell_type": "code",
   "execution_count": 127,
   "metadata": {
    "collapsed": false
   },
   "outputs": [],
   "source": [
    "class Game:\n",
    "    \n",
    "    def __init__(self):\n",
    "        pass\n",
    "    \n",
    "    def create_players(self, player_a, player_b):\n",
    "        player_a = input(\"Enter Player A: \")\n",
    "        player_b = \"Computer\"\n",
    "        print(\"Entering {} vs. {}.\".format(player_a, player_b))\n",
    "        self.players = player_a, player_b\n",
    "    \n",
    "    def game_simulation(self):\n",
    "        self.user_turn()\n",
    "        self.computer_turn()\n",
    "\n",
    "\n",
    "start_game = Game()"
   ]
  },
  {
   "cell_type": "code",
   "execution_count": 120,
   "metadata": {
    "collapsed": false
   },
   "outputs": [
    {
     "name": "stdout",
     "output_type": "stream",
     "text": [
      "Enter Player A: Matt\n",
      "Entering Matt vs. Computer.\n",
      "('Matt', 'Computer')\n"
     ]
    },
    {
     "ename": "AttributeError",
     "evalue": "'Game' object has no attribute 'user_turn'",
     "output_type": "error",
     "traceback": [
      "\u001b[0;31m---------------------------------------------------------------------------\u001b[0m",
      "\u001b[0;31mAttributeError\u001b[0m                            Traceback (most recent call last)",
      "\u001b[0;32m<ipython-input-120-c56e64eb9561>\u001b[0m in \u001b[0;36m<module>\u001b[0;34m()\u001b[0m\n\u001b[1;32m      1\u001b[0m \u001b[0mstart_game\u001b[0m\u001b[0;34m.\u001b[0m\u001b[0mcreate_players\u001b[0m\u001b[0;34m(\u001b[0m\u001b[0;34m\"Matt\"\u001b[0m\u001b[0;34m,\u001b[0m \u001b[0;34m\"Computer\"\u001b[0m\u001b[0;34m)\u001b[0m\u001b[0;34m\u001b[0m\u001b[0m\n\u001b[1;32m      2\u001b[0m \u001b[0mprint\u001b[0m\u001b[0;34m(\u001b[0m\u001b[0mstart_game\u001b[0m\u001b[0;34m.\u001b[0m\u001b[0mplayers\u001b[0m\u001b[0;34m)\u001b[0m\u001b[0;34m\u001b[0m\u001b[0m\n\u001b[0;32m----> 3\u001b[0;31m \u001b[0mstart_game\u001b[0m\u001b[0;34m.\u001b[0m\u001b[0mgame_simulation\u001b[0m\u001b[0;34m(\u001b[0m\u001b[0;36m7\u001b[0m\u001b[0;34m)\u001b[0m\u001b[0;34m\u001b[0m\u001b[0m\n\u001b[0m",
      "\u001b[0;32m<ipython-input-119-ca654c134dd6>\u001b[0m in \u001b[0;36mgame_simulation\u001b[0;34m(self, game_length)\u001b[0m\n\u001b[1;32m     15\u001b[0m         \u001b[0;32mfor\u001b[0m \u001b[0mplayer\u001b[0m \u001b[0;32min\u001b[0m \u001b[0mself\u001b[0m\u001b[0;34m.\u001b[0m\u001b[0mplayers\u001b[0m\u001b[0;34m:\u001b[0m\u001b[0;34m\u001b[0m\u001b[0m\n\u001b[1;32m     16\u001b[0m             \u001b[0;32mwhile\u001b[0m \u001b[0mself\u001b[0m\u001b[0;34m.\u001b[0m\u001b[0mtotal_turns\u001b[0m \u001b[0;34m<\u001b[0m \u001b[0mgame_length\u001b[0m\u001b[0;34m:\u001b[0m\u001b[0;34m\u001b[0m\u001b[0m\n\u001b[0;32m---> 17\u001b[0;31m                 \u001b[0mself\u001b[0m\u001b[0;34m.\u001b[0m\u001b[0muser_turn\u001b[0m\u001b[0;34m(\u001b[0m\u001b[0;34m)\u001b[0m\u001b[0;34m\u001b[0m\u001b[0m\n\u001b[0m\u001b[1;32m     18\u001b[0m                 \u001b[0mself\u001b[0m\u001b[0;34m.\u001b[0m\u001b[0mcomputer_turn\u001b[0m\u001b[0;34m(\u001b[0m\u001b[0;34m)\u001b[0m\u001b[0;34m\u001b[0m\u001b[0m\n\u001b[1;32m     19\u001b[0m                 \u001b[0mself\u001b[0m\u001b[0;34m.\u001b[0m\u001b[0mtotal_turns\u001b[0m \u001b[0;34m+=\u001b[0m\u001b[0;36m1\u001b[0m\u001b[0;34m\u001b[0m\u001b[0m\n",
      "\u001b[0;31mAttributeError\u001b[0m: 'Game' object has no attribute 'user_turn'"
     ]
    }
   ],
   "source": [
    "class Game:\n",
    "    \n",
    "    def __init__(self):\n",
    "        player_total_turns = 0\n",
    "        computer_total_turns = 0\n",
    "        pass\n",
    "    \n",
    "    def create_players(self, player_a, player_b):\n",
    "        player_a = input(\"Enter Player A: \")\n",
    "        player_b = \"Computer\"\n",
    "        print(\"Entering {} vs. {}.\".format(player_a, player_b))\n",
    "        self.players = player_a, player_b\n",
    "    \n",
    "    def user_turn(self):\n",
    "        self.user_turn() \n",
    "        player_total_turns += 1\n",
    "        return\n",
    "\n",
    "    def computer_turn(self):\n",
    "        self.computer_turn() \n",
    "        computer_total_turns += 1\n",
    "        return\n",
    "    \n",
    "    def game_simulation(self):\n",
    "        self.user_turn()\n",
    "        self.computer_turn()\n",
    "        return\n",
    "    \n",
    "start_game = Game()\n",
    "\n",
    " #def move_forward(self):\n",
    "        #self.accelerate()\n",
    "        #self.location += self.bike.current_speed\n",
    "        #pass\n",
    "    \n",
    "    #def accelerate(self):\n",
    "        #if self.can_accelerate():\n",
    "           # self.bike.accelerate()\n",
    "        #if self.can_decelerate():\n",
    "           # self.bike.decelerate()\n"
   ]
  },
  {
   "cell_type": "code",
   "execution_count": 106,
   "metadata": {
    "collapsed": true
   },
   "outputs": [],
   "source": [
    "import random\n",
    "\n",
    "class Dice:\n",
    "    \n",
    "    def roll(self):\n",
    "        return random.randint(1,6)\n",
    "\n",
    "dice = Dice()\n",
    "\n",
    "class Player:\n",
    "    \n",
    "    def __init__(self):\n",
    "        self.dice = dice\n",
    "        self.player_round_total = 0\n",
    "        self.player_score_total = 0\n",
    "        pass\n",
    "    \n",
    "    def user_turn(self):\n",
    "        current_round = 1\n",
    "        running_score = 0\n",
    "        self.player_round_total += current_round\n",
    "        self.player_score_total += running_score\n",
    "        print(\"Game point total: {}. This is Turn #{}.\".format(self.player_score_total, self.player_round_total))\n",
    "        while True:\n",
    "            roll = self.dice.roll()\n",
    "            running_score += roll\n",
    "            print(\"You rolled a {}\".format(roll))\n",
    "            print(\"Your round total is {}.\".format(running_score))\n",
    "            if roll == 1:\n",
    "                self.player_score_total += running_score\n",
    "                self.running_score = c_running_score\n",
    "                print(\"End of turn #{}. Round total: {}. Game total: {}.\".format(self.player_round_total, running_score, self.player_score_total))\n",
    "                return False\n",
    "            else:\n",
    "                choice = input(\"Would you like to roll again? Please type Yes or No. \")\n",
    "                if choice in [\"Yes\", \"yes\", \"YES\"]:\n",
    "                    print(\"------------------------\")\n",
    "                    continue \n",
    "                elif choice in [\"No\", \"NO\", \"no\"]:\n",
    "                    self.running_score = running_score\n",
    "                    self.player_score_total += running_score\n",
    "                    print(\"End of turn #{}. Round total: {}. Game total: {}.\".format(self.player_round_total, running_score, self.player_score_total))\n",
    "                    return False\n",
    "            \n",
    "class Computer:\n",
    "    \n",
    "    def __init__(self):\n",
    "        self.dice = dice\n",
    "        self.computer_round_total = int()\n",
    "        self.computer_score_total = int()\n",
    " \n",
    "    def computer_turn(self):\n",
    "        c_current_round = 1\n",
    "        c_running_score = 0\n",
    "        self.computer_round_total += c_current_round\n",
    "        self.computer_score_total += c_running_score\n",
    "        print(\"Game point total: {}. This is Turn #{}.\".format(self.computer_score_total, self.computer_round_total))\n",
    "        while True:\n",
    "            roll = self.dice.roll()\n",
    "            c_running_score += roll\n",
    "            print(\"Computer rolled a {}\".format(roll))\n",
    "            print(\"Computer's round total is {}.\".format(c_running_score))\n",
    "            if roll == 1:\n",
    "                self.computer_score_total += c_running_score\n",
    "                self.running_score = c_running_score\n",
    "                print(\"End of turn #{}. Computer Round total: {}. Computer Game total: {}.\".format(self.computer_round_total, c_running_score, self.computer_score_total))\n",
    "                self.computer_score = self.computer_score_total\n",
    "                self.computer_round = self.computer_round_total\n",
    "                return False\n",
    "            else:\n",
    "                if c_running_score < 50:\n",
    "                    print(\"Computer chooses to roll again.\")\n",
    "                    print(\"------------------------\")\n",
    "                    continue \n",
    "                else:\n",
    "                    self.running_score = c_running_score\n",
    "                    self.computer_score_total += c_running_score\n",
    "                    print(\"Computer has passed. End of turn #{}. Computer Round total: {}. Computer Game total: {}.\".format(self.computer_round_total, c_running_score, self.computer_score_total))\n",
    "                    self.computer_score = self.computer_score_total\n",
    "                    self.computer_round = self.computer_round_total\n",
    "                    return False\n",
    "        \n",
    "\n",
    "computer = Computer()\n",
    "    \n",
    "game_run = Game()\n",
    "    \n",
    "# Initiate user turn:\n",
    "   #player_a = Player()\n",
    "    #player_a.user_turn()\n",
    "# Initiate computer turn:\n",
    "   #player_b = Computer()\n",
    "    #player_b.computer_turn()\n"
   ]
  },
  {
   "cell_type": "code",
   "execution_count": 103,
   "metadata": {
    "collapsed": true
   },
   "outputs": [],
   "source": [
    "matt = Player()"
   ]
  },
  {
   "cell_type": "code",
   "execution_count": 110,
   "metadata": {
    "collapsed": false
   },
   "outputs": [
    {
     "name": "stdout",
     "output_type": "stream",
     "text": [
      "Game point total: 18. This is Turn #3.\n",
      "You rolled a 4\n",
      "Your round total is 4.\n",
      "Would you like to roll again? Please type Yes or No. yes\n",
      "------------------------\n",
      "You rolled a 5\n",
      "Your round total is 9.\n",
      "Would you like to roll again? Please type Yes or No. yes\n",
      "------------------------\n",
      "You rolled a 6\n",
      "Your round total is 15.\n",
      "Would you like to roll again? Please type Yes or No. yes\n",
      "------------------------\n",
      "You rolled a 6\n",
      "Your round total is 21.\n",
      "Would you like to roll again? Please type Yes or No. yes\n",
      "------------------------\n",
      "You rolled a 1\n",
      "Your round total is 22.\n"
     ]
    },
    {
     "ename": "NameError",
     "evalue": "name 'c_running_score' is not defined",
     "output_type": "error",
     "traceback": [
      "\u001b[0;31m---------------------------------------------------------------------------\u001b[0m",
      "\u001b[0;31mNameError\u001b[0m                                 Traceback (most recent call last)",
      "\u001b[0;32m<ipython-input-110-776237502a10>\u001b[0m in \u001b[0;36m<module>\u001b[0;34m()\u001b[0m\n\u001b[0;32m----> 1\u001b[0;31m \u001b[0mmatt\u001b[0m\u001b[0;34m.\u001b[0m\u001b[0muser_turn\u001b[0m\u001b[0;34m(\u001b[0m\u001b[0;34m)\u001b[0m\u001b[0;34m\u001b[0m\u001b[0m\n\u001b[0m",
      "\u001b[0;32m<ipython-input-102-cbcb43e64bed>\u001b[0m in \u001b[0;36muser_turn\u001b[0;34m(self)\u001b[0m\n\u001b[1;32m     29\u001b[0m             \u001b[0;32mif\u001b[0m \u001b[0mroll\u001b[0m \u001b[0;34m==\u001b[0m \u001b[0;36m1\u001b[0m\u001b[0;34m:\u001b[0m\u001b[0;34m\u001b[0m\u001b[0m\n\u001b[1;32m     30\u001b[0m                 \u001b[0mself\u001b[0m\u001b[0;34m.\u001b[0m\u001b[0mplayer_score_total\u001b[0m \u001b[0;34m+=\u001b[0m \u001b[0mrunning_score\u001b[0m\u001b[0;34m\u001b[0m\u001b[0m\n\u001b[0;32m---> 31\u001b[0;31m                 \u001b[0mself\u001b[0m\u001b[0;34m.\u001b[0m\u001b[0mrunning_score\u001b[0m \u001b[0;34m=\u001b[0m \u001b[0mc_running_score\u001b[0m\u001b[0;34m\u001b[0m\u001b[0m\n\u001b[0m\u001b[1;32m     32\u001b[0m                 \u001b[0mprint\u001b[0m\u001b[0;34m(\u001b[0m\u001b[0;34m\"End of turn #{}. Round total: {}. Game total: {}.\"\u001b[0m\u001b[0;34m.\u001b[0m\u001b[0mformat\u001b[0m\u001b[0;34m(\u001b[0m\u001b[0mself\u001b[0m\u001b[0;34m.\u001b[0m\u001b[0mplayer_round_total\u001b[0m\u001b[0;34m,\u001b[0m \u001b[0mrunning_score\u001b[0m\u001b[0;34m,\u001b[0m \u001b[0mself\u001b[0m\u001b[0;34m.\u001b[0m\u001b[0mplayer_score_total\u001b[0m\u001b[0;34m)\u001b[0m\u001b[0;34m)\u001b[0m\u001b[0;34m\u001b[0m\u001b[0m\n\u001b[1;32m     33\u001b[0m                 \u001b[0;32mreturn\u001b[0m \u001b[0;32mFalse\u001b[0m\u001b[0;34m\u001b[0m\u001b[0m\n",
      "\u001b[0;31mNameError\u001b[0m: name 'c_running_score' is not defined"
     ]
    }
   ],
   "source": [
    "matt.user_turn()"
   ]
  },
  {
   "cell_type": "code",
   "execution_count": 107,
   "metadata": {
    "collapsed": true
   },
   "outputs": [],
   "source": [
    "jeff = Computer()"
   ]
  },
  {
   "cell_type": "code",
   "execution_count": 109,
   "metadata": {
    "collapsed": false
   },
   "outputs": [
    {
     "name": "stdout",
     "output_type": "stream",
     "text": [
      "Game point total: 26. This is Turn #2.\n",
      "Computer rolled a 5\n",
      "Computer's round total is 5.\n",
      "Computer chooses to roll again.\n",
      "------------------------\n",
      "Computer rolled a 5\n",
      "Computer's round total is 10.\n",
      "Computer chooses to roll again.\n",
      "------------------------\n",
      "Computer rolled a 5\n",
      "Computer's round total is 15.\n",
      "Computer chooses to roll again.\n",
      "------------------------\n",
      "Computer rolled a 1\n",
      "Computer's round total is 16.\n",
      "End of turn #2. Computer Round total: 16. Computer Game total: 42.\n"
     ]
    },
    {
     "data": {
      "text/plain": [
       "False"
      ]
     },
     "execution_count": 109,
     "metadata": {},
     "output_type": "execute_result"
    }
   ],
   "source": [
    "jeff.computer_turn()"
   ]
  },
  {
   "cell_type": "code",
   "execution_count": null,
   "metadata": {
    "collapsed": true
   },
   "outputs": [],
   "source": []
  }
 ],
 "metadata": {
  "kernelspec": {
   "display_name": "Python 3",
   "language": "python",
   "name": "python3"
  },
  "language_info": {
   "codemirror_mode": {
    "name": "ipython",
    "version": 3
   },
   "file_extension": ".py",
   "mimetype": "text/x-python",
   "name": "python",
   "nbconvert_exporter": "python",
   "pygments_lexer": "ipython3",
   "version": "3.5.0"
  }
 },
 "nbformat": 4,
 "nbformat_minor": 0
}
