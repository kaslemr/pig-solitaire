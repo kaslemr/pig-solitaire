{
 "cells": [
  {
   "cell_type": "code",
   "execution_count": 237,
   "metadata": {
    "collapsed": true
   },
   "outputs": [],
   "source": [
    "import random"
   ]
  },
  {
   "cell_type": "code",
   "execution_count": 12,
   "metadata": {
    "collapsed": false
   },
   "outputs": [
    {
     "data": {
      "text/plain": [
       "5"
      ]
     },
     "execution_count": 12,
     "metadata": {},
     "output_type": "execute_result"
    }
   ],
   "source": [
    "random.randint(1,6)"
   ]
  },
  {
   "cell_type": "code",
   "execution_count": 259,
   "metadata": {
    "collapsed": false
   },
   "outputs": [],
   "source": [
    "import random\n",
    "\n",
    "class Dice:\n",
    "    \n",
    "    def roll(self):\n",
    "        return random.randint(1,6)\n",
    "\n",
    "dice = Dice()\n",
    "\n",
    "class Player:\n",
    "    \n",
    "    def __init__(self):\n",
    "        self.dice = dice\n",
    "        pass\n",
    "    \n",
    "    def user_turn(self):\n",
    "        running_score = 0\n",
    "        while True:\n",
    "            roll = self.dice.roll()\n",
    "            running_score += roll\n",
    "            print(\"You rolled a {}\".format(roll))\n",
    "            print(\"Your round total is {}.\".format(running_score))\n",
    "            if roll == 1:\n",
    "                print(\"Turn over. Computer's turn.\")\n",
    "                return False\n",
    "            else:\n",
    "                choice = input(\"Would you like to roll again? Please type Yes or No. \")\n",
    "                if choice in [\"Yes\", \"yes\", \"YES\"]:\n",
    "                    print(\"------------------------\")\n",
    "                    continue \n",
    "                elif choice in [\"No\", \"NO\", \"no\"]:\n",
    "                    print(\"Your round total was {}. Computer's turn.\".format(running_score))\n",
    "                    return False\n",
    "     \n",
    "    def accumulation(self):\n",
    "        total_score =+ running_score\n",
    "        total_turns =+ turn\n",
    "        if total_turns == 7:\n",
    "            print(\"Game over!\")\n",
    "            \n",
    "class Computer:\n",
    "    \n",
    "    def __init__(self):\n",
    "        self.dice = dice\n",
    "        pass\n",
    "    \n",
    "    def computer_turn(self):\n",
    "        self.running_score = 0\n",
    "        turn = 1\n",
    "        while True:\n",
    "            roll = self.dice.roll()\n",
    "            running_score += roll\n",
    "            print(\"Computer rolled a {}\".format(roll))\n",
    "            print(\"Computer's round total is {}.\".format(running_score))\n",
    "            if roll == 1:\n",
    "                print(\"Turn over. Player's turn.\")\n",
    "                return False\n",
    "            else:\n",
    "                if running_score < 50:\n",
    "                    print(\"------------------------\")\n",
    "                    continue \n",
    "                else:\n",
    "                    print(\"Computer has passed. Computer's round total was {}. It's your turn!\".format(running_score))\n",
    "                    return False\n",
    "\n",
    "# Initiate user turn:\n",
    "   #matt = Player()\n",
    "    #matt.user_turn()\n",
    "    \n",
    "\n",
    "# Initiate computer turn:\n",
    "   #matt = Computer()\n",
    "    #matt.computer_turn()\n",
    "    \n",
    "        \n",
    "\n",
    "    \n",
    "\n"
   ]
  },
  {
   "cell_type": "code",
   "execution_count": 191,
   "metadata": {
    "collapsed": false
   },
   "outputs": [],
   "source": [
    "class Dice:\n",
    "    \n",
    "    def roll(self):\n",
    "        return random.randint(1,6)\n",
    "\n",
    "class Player:\n",
    "    \n",
    "    def __init__(self):\n",
    "        self.dice = Dice()\n",
    "        return self.dice\n",
    "        "
   ]
  },
  {
   "cell_type": "code",
   "execution_count": 241,
   "metadata": {
    "collapsed": false
   },
   "outputs": [],
   "source": []
  },
  {
   "cell_type": "code",
   "execution_count": null,
   "metadata": {
    "collapsed": false
   },
   "outputs": [
    {
     "name": "stdout",
     "output_type": "stream",
     "text": [
      "You rolled a 2\n",
      "Your round total is 2.\n",
      "Would you like to roll again? Please type Yes or No. yes\n",
      "------------------------\n",
      "You rolled a 3\n",
      "Your round total is 5.\n"
     ]
    }
   ],
   "source": [
    "matt = Player()\n",
    "matt.user_turn()"
   ]
  },
  {
   "cell_type": "code",
   "execution_count": null,
   "metadata": {
    "collapsed": true
   },
   "outputs": [],
   "source": [
    "class Dice:\n",
    "    \n",
    "    def roll(self):\n",
    "        return random.randint(1,6)\n",
    "\n",
    "dice = Dice()\n",
    "\n",
    "class Player:\n",
    "    \n",
    "    def __init__(self):\n",
    "        self.dice = dice\n",
    "        pass\n",
    "    \n",
    "    def user_turn(self):\n",
    "        score = self.dice.roll()\n",
    "        if"
   ]
  },
  {
   "cell_type": "code",
   "execution_count": null,
   "metadata": {
    "collapsed": true
   },
   "outputs": [],
   "source": []
  }
 ],
 "metadata": {
  "kernelspec": {
   "display_name": "Python 3",
   "language": "python",
   "name": "python3"
  },
  "language_info": {
   "codemirror_mode": {
    "name": "ipython",
    "version": 3
   },
   "file_extension": ".py",
   "mimetype": "text/x-python",
   "name": "python",
   "nbconvert_exporter": "python",
   "pygments_lexer": "ipython3",
   "version": "3.5.0"
  }
 },
 "nbformat": 4,
 "nbformat_minor": 0
}
